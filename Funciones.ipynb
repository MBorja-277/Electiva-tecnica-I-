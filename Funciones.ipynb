{
  "nbformat": 4,
  "nbformat_minor": 0,
  "metadata": {
    "colab": {
      "provenance": [],
      "authorship_tag": "ABX9TyMGuqrL8b8xYF8VkbAJ9pnP",
      "include_colab_link": true
    },
    "kernelspec": {
      "name": "python3",
      "display_name": "Python 3"
    },
    "language_info": {
      "name": "python"
    }
  },
  "cells": [
    {
      "cell_type": "markdown",
      "metadata": {
        "id": "view-in-github",
        "colab_type": "text"
      },
      "source": [
        "<a href=\"https://colab.research.google.com/github/MBorja-277/Electiva-tecnica-I-/blob/main/Funciones.ipynb\" target=\"_parent\"><img src=\"https://colab.research.google.com/assets/colab-badge.svg\" alt=\"Open In Colab\"/></a>"
      ]
    },
    {
      "cell_type": "markdown",
      "source": [
        "#**Variables globales**"
      ],
      "metadata": {
        "id": "0goleNmFslQu"
      }
    },
    {
      "cell_type": "code",
      "execution_count": null,
      "metadata": {
        "id": "hf2-xgQ8XZy8"
      },
      "outputs": [],
      "source": [
        "def escribe_media():\n",
        "  media = (a+b) / 2\n",
        "  print(f\"La media de {a} y {b} es: {media}\")\n",
        "  return\n",
        "a = 3\n",
        "b = 5\n",
        "escribe_media()\n",
        "print(\"Programa terminado\")"
      ]
    },
    {
      "cell_type": "markdown",
      "source": [
        "#**Funciones con argumentos**"
      ],
      "metadata": {
        "id": "GEZNes4-swsQ"
      }
    },
    {
      "cell_type": "code",
      "source": [
        "def escribe_media(x, y):\n",
        "  media = (x + y) / 2\n",
        "  print(f\"La media de {x} y {y} es: {media}\")\n",
        "  return\n",
        "a = 300\n",
        "b = 545\n",
        "escribe_media(a, b)\n",
        "print(\"Programa terminado\")"
      ],
      "metadata": {
        "id": "oDGuzki7XeE-"
      },
      "execution_count": null,
      "outputs": []
    },
    {
      "cell_type": "markdown",
      "source": [
        "#**Funciones que devuelven valores**"
      ],
      "metadata": {
        "id": "RNMe4JFIteIi"
      }
    },
    {
      "cell_type": "code",
      "source": [
        "def calcula_media(x, y):\n",
        " resultado = (x + y) / 2\n",
        " return resultado\n",
        "a = 3\n",
        "b = 5\n",
        "media = calcula_media(a, b)\n",
        "print(f\"La media de {a} y {b} es: {media}\")\n",
        "print(\"Programa terminado\")"
      ],
      "metadata": {
        "colab": {
          "base_uri": "https://localhost:8080/"
        },
        "id": "JxaLs_G9twp2",
        "outputId": "0e362910-11e8-4fbb-f3bb-859ec9ccd472"
      },
      "execution_count": null,
      "outputs": [
        {
          "output_type": "stream",
          "name": "stdout",
          "text": [
            "La media de 3 y 5 es: 4.0\n",
            "Programa terminado\n"
          ]
        }
      ]
    },
    {
      "cell_type": "markdown",
      "source": [
        "# **parámetros posicionales**"
      ],
      "metadata": {
        "id": "3UMtLKT6tScb"
      }
    },
    {
      "cell_type": "code",
      "source": [
        "\n",
        "def suma(a, b):\n",
        " return a + b\n",
        "resultado = suma(5, 3)\n",
        "resultado"
      ],
      "metadata": {
        "colab": {
          "base_uri": "https://localhost:8080/"
        },
        "id": "JpBb37JCXglm",
        "outputId": "dba188af-cc6c-4a31-cf44-a2e7acbe8c65"
      },
      "execution_count": null,
      "outputs": [
        {
          "output_type": "execute_result",
          "data": {
            "text/plain": [
              "8"
            ]
          },
          "metadata": {},
          "execution_count": 3
        }
      ]
    },
    {
      "cell_type": "markdown",
      "source": [
        "# **Valores predeterminados**"
      ],
      "metadata": {
        "id": "CqvAWUIfuaBq"
      }
    },
    {
      "cell_type": "code",
      "source": [
        "\n",
        "def saludar(nombre=\"Mundo\"):\n",
        " print(f\"Hola, {nombre}\")\n",
        "saludar()\n",
        "saludar(\"Ana\")"
      ],
      "metadata": {
        "colab": {
          "base_uri": "https://localhost:8080/"
        },
        "id": "tswBsGejX9Vd",
        "outputId": "4a55a371-addd-4487-ffa5-8fa85ace2ed2"
      },
      "execution_count": null,
      "outputs": [
        {
          "output_type": "stream",
          "name": "stdout",
          "text": [
            "Hola, Mundo\n",
            "Hola, Ana\n"
          ]
        }
      ]
    },
    {
      "cell_type": "markdown",
      "source": [
        "#  **Parámetros con nombre**"
      ],
      "metadata": {
        "id": "B8hkdvS6upr4"
      }
    },
    {
      "cell_type": "code",
      "source": [
        "\n",
        "def info(nombre, edad=25):\n",
        " print(f\"{nombre}: {edad}\")\n",
        "info(edad=30, nombre=\"Luis\")\n",
        "# Luis: 30"
      ],
      "metadata": {
        "colab": {
          "base_uri": "https://localhost:8080/"
        },
        "id": "kF-uigebYbpt",
        "outputId": "b8ea9b15-570d-42f9-d791-b9b0f6c9dc3b"
      },
      "execution_count": null,
      "outputs": [
        {
          "output_type": "stream",
          "name": "stdout",
          "text": [
            "Luis: 30\n"
          ]
        }
      ]
    },
    {
      "cell_type": "markdown",
      "source": [
        "# **Parámetros de longitud variable**"
      ],
      "metadata": {
        "id": "4EnBuikSuug9"
      }
    },
    {
      "cell_type": "code",
      "source": [
        "\n",
        "def suma_varios(*args):\n",
        " return sum(args)\n",
        "suma_varios(1, 2, 3,4,5,6) # 6\n"
      ],
      "metadata": {
        "colab": {
          "base_uri": "https://localhost:8080/"
        },
        "id": "hDxMWcGeYsYi",
        "outputId": "fb1f77d9-4a1c-4c80-aea1-7934719e20aa"
      },
      "execution_count": null,
      "outputs": [
        {
          "output_type": "execute_result",
          "data": {
            "text/plain": [
              "21"
            ]
          },
          "metadata": {},
          "execution_count": 8
        }
      ]
    },
    {
      "cell_type": "code",
      "source": [
        "def mostrar_info(**kwargs):\n",
        " for k, v in kwargs.items():\n",
        "  print(f\"{k}: {v}\")\n",
        "\n",
        "  mostrar_info(x=2)"
      ],
      "metadata": {
        "id": "ShQ2O9aFcLTv"
      },
      "execution_count": null,
      "outputs": []
    },
    {
      "cell_type": "markdown",
      "source": [
        "# **Documentación de funciones (docstrings)**\n",
        "\n",
        "Documentación de funciones (docstrings)\n",
        "Los docstrings son cadenas de documentación que describen el propósito y uso de funciones, módulos y clases en Python. Se definen\n",
        "con triples comillas y son accesibles mediante el atributo __doc__ ."
      ],
      "metadata": {
        "id": "9bOM_GmiAQgn"
      }
    },
    {
      "cell_type": "markdown",
      "source": [
        "## **Estructura básica**\n",
        "### Un docstring típico incluye:\n",
        "*  Breve descripción de la función\n",
        "*  Descripción de los parámetros\n",
        "*  Descripción del valor de retorno\n",
        "*  Información sobre excepciones (si las hay)\n",
        "\n",
        "\n",
        "\n",
        "\n",
        "\n"
      ],
      "metadata": {
        "id": "TYSShEE2Abpp"
      }
    },
    {
      "cell_type": "code",
      "source": [
        "def calcular_promedio(lista):\n",
        " \"\"\"\n",
        " Calcula el promedio de una lista de números.\n",
        "Args:\n",
        "lista (list): Lista de números para calcular\n",
        "el promedio.\n",
        "Returns:\n",
        "float: El promedio de los números en la lista.\n",
        "\"\"\"\n",
        "suma = sum(lista)\n",
        "promedio = suma / len(lista)\n",
        "return promedio"
      ],
      "metadata": {
        "colab": {
          "base_uri": "https://localhost:8080/",
          "height": 211
        },
        "id": "MyL-qAGLBMas",
        "outputId": "9115466e-e7a3-4c51-f1d6-238568e6e38f"
      },
      "execution_count": null,
      "outputs": [
        {
          "output_type": "error",
          "ename": "NameError",
          "evalue": "name 'lista' is not defined",
          "traceback": [
            "\u001b[0;31m---------------------------------------------------------------------------\u001b[0m",
            "\u001b[0;31mNameError\u001b[0m                                 Traceback (most recent call last)",
            "\u001b[0;32m/tmp/ipython-input-1319901387.py\u001b[0m in \u001b[0;36m<cell line: 0>\u001b[0;34m()\u001b[0m\n\u001b[1;32m      8\u001b[0m \u001b[0mfloat\u001b[0m\u001b[0;34m:\u001b[0m \u001b[0mEl\u001b[0m \u001b[0mpromedio\u001b[0m \u001b[0mde\u001b[0m \u001b[0mlos\u001b[0m \u001b[0mnúmeros\u001b[0m \u001b[0men\u001b[0m \u001b[0mla\u001b[0m \u001b[0mlista\u001b[0m\u001b[0;34m.\u001b[0m\u001b[0;34m\u001b[0m\u001b[0;34m\u001b[0m\u001b[0m\n\u001b[1;32m      9\u001b[0m \"\"\"\n\u001b[0;32m---> 10\u001b[0;31m \u001b[0msuma\u001b[0m \u001b[0;34m=\u001b[0m \u001b[0msum\u001b[0m\u001b[0;34m(\u001b[0m\u001b[0mlista\u001b[0m\u001b[0;34m)\u001b[0m\u001b[0;34m\u001b[0m\u001b[0;34m\u001b[0m\u001b[0m\n\u001b[0m\u001b[1;32m     11\u001b[0m \u001b[0mpromedio\u001b[0m \u001b[0;34m=\u001b[0m \u001b[0msuma\u001b[0m \u001b[0;34m/\u001b[0m \u001b[0mlen\u001b[0m\u001b[0;34m(\u001b[0m\u001b[0mlista\u001b[0m\u001b[0;34m)\u001b[0m\u001b[0;34m\u001b[0m\u001b[0;34m\u001b[0m\u001b[0m\n\u001b[1;32m     12\u001b[0m \u001b[0;32mreturn\u001b[0m \u001b[0mpromedio\u001b[0m\u001b[0;34m\u001b[0m\u001b[0;34m\u001b[0m\u001b[0m\n",
            "\u001b[0;31mNameError\u001b[0m: name 'lista' is not defined"
          ]
        }
      ]
    },
    {
      "cell_type": "markdown",
      "source": [
        "# **Funciones lambda en Python**\n",
        "Las funciones lambda son funciones anónimas de una sola línea que permiten crear operaciones sencillas sobre la marcha. Son ideales\n",
        "para tareas cortas y como argumentos de funciones de orden superior."
      ],
      "metadata": {
        "id": "viHTrFWDymxx"
      }
    },
    {
      "cell_type": "code",
      "source": [
        "# Función lambda equivalente\n",
        "suma_lambda = lambda a, b: a + b\n",
        "print(suma_lambda)\n",
        "# Uso\n",
        "resultado = suma_lambda(3, 5) # 8\n",
        "print(resultado)"
      ],
      "metadata": {
        "colab": {
          "base_uri": "https://localhost:8080/"
        },
        "id": "29YNmywb0AX0",
        "outputId": "0c87acb8-64fd-4de7-e674-bd751e4a23a3"
      },
      "execution_count": null,
      "outputs": [
        {
          "output_type": "stream",
          "name": "stdout",
          "text": [
            "<function <lambda> at 0x7933ffe999e0>\n",
            "8\n"
          ]
        }
      ]
    },
    {
      "cell_type": "markdown",
      "source": [
        "## **Función filter()**"
      ],
      "metadata": {
        "id": "3EW2yVc444A6"
      }
    },
    {
      "cell_type": "code",
      "source": [
        "numeros = [1, 2, 3, 4, 5, 6, 7, 8]\n",
        "pares = filter(lambda x: x % 2 == 0, numeros)\n",
        "print(list(pares))"
      ],
      "metadata": {
        "colab": {
          "base_uri": "https://localhost:8080/"
        },
        "id": "J5cWjEr84-lP",
        "outputId": "8310e25b-2485-4472-8727-6374ff381897"
      },
      "execution_count": null,
      "outputs": [
        {
          "output_type": "stream",
          "name": "stdout",
          "text": [
            "[2, 4, 6, 8]\n"
          ]
        }
      ]
    },
    {
      "cell_type": "markdown",
      "source": [
        "## **Función map()**"
      ],
      "metadata": {
        "id": "dbppH0Jh5D0j"
      }
    },
    {
      "cell_type": "code",
      "source": [
        "frutas = ['manzana', 'banana', 'cereza']\n",
        "longitudes = list(map(lambda x: len(x), frutas))\n",
        "print(longitudes)"
      ],
      "metadata": {
        "colab": {
          "base_uri": "https://localhost:8080/"
        },
        "id": "H9E4dkWN5P7D",
        "outputId": "7bb26400-1baf-4c49-8f2c-b76f07f9dccd"
      },
      "execution_count": null,
      "outputs": [
        {
          "output_type": "stream",
          "name": "stdout",
          "text": [
            "[7, 6, 6]\n"
          ]
        }
      ]
    },
    {
      "cell_type": "markdown",
      "source": [
        "## **Función sorted()**"
      ],
      "metadata": {
        "id": "2YNXRry_5TZI"
      }
    },
    {
      "cell_type": "code",
      "source": [
        "datos = [(1, 3), (2, 1), (4, 2)]\n",
        "ordenados = sorted(datos, key=lambda x: x[1])\n",
        "print(ordenados)"
      ],
      "metadata": {
        "colab": {
          "base_uri": "https://localhost:8080/"
        },
        "id": "S8MWcC9v5blu",
        "outputId": "7a40f170-faac-4ec7-bb23-119cf66d8ee8"
      },
      "execution_count": null,
      "outputs": [
        {
          "output_type": "stream",
          "name": "stdout",
          "text": [
            "[(2, 1), (4, 2), (1, 3)]\n"
          ]
        }
      ]
    },
    {
      "cell_type": "markdown",
      "source": [
        "# **Ámbito de variables en Python**\n",
        "\n",
        "Ámbito de variables en Python\n",
        "En Python, las variables pueden tener diferentes ámbitos que determinan dónde pueden ser accedidas y modificadas. Los tres tipos\n",
        "principales son: local , global y nonlocal ."
      ],
      "metadata": {
        "id": "4T8aoAJ16FLp"
      }
    },
    {
      "cell_type": "markdown",
      "source": [
        "## **Variables locales**"
      ],
      "metadata": {
        "id": "74TXRrwk6SSV"
      }
    },
    {
      "cell_type": "code",
      "source": [
        "def saludar():\n",
        "# Variable local\n",
        " mensaje = 'Hola'\n",
        "print('Dentro:', mensaje)\n",
        "saludar()\n",
        "# Error: la variable no existe fuera de la función\n",
        "print('Fuera:', mensaje)"
      ],
      "metadata": {
        "colab": {
          "base_uri": "https://localhost:8080/",
          "height": 211
        },
        "id": "ALWDvAel6cZF",
        "outputId": "b63f3d47-626e-48fb-fd28-44774b2cb650"
      },
      "execution_count": null,
      "outputs": [
        {
          "output_type": "error",
          "ename": "NameError",
          "evalue": "name 'mensaje' is not defined",
          "traceback": [
            "\u001b[0;31m---------------------------------------------------------------------------\u001b[0m",
            "\u001b[0;31mNameError\u001b[0m                                 Traceback (most recent call last)",
            "\u001b[0;32m/tmp/ipython-input-1359090965.py\u001b[0m in \u001b[0;36m<cell line: 0>\u001b[0;34m()\u001b[0m\n\u001b[1;32m      2\u001b[0m \u001b[0;31m# Variable local\u001b[0m\u001b[0;34m\u001b[0m\u001b[0;34m\u001b[0m\u001b[0m\n\u001b[1;32m      3\u001b[0m  \u001b[0mmensaje\u001b[0m \u001b[0;34m=\u001b[0m \u001b[0;34m'Hola'\u001b[0m\u001b[0;34m\u001b[0m\u001b[0;34m\u001b[0m\u001b[0m\n\u001b[0;32m----> 4\u001b[0;31m \u001b[0mprint\u001b[0m\u001b[0;34m(\u001b[0m\u001b[0;34m'Dentro:'\u001b[0m\u001b[0;34m,\u001b[0m \u001b[0mmensaje\u001b[0m\u001b[0;34m)\u001b[0m\u001b[0;34m\u001b[0m\u001b[0;34m\u001b[0m\u001b[0m\n\u001b[0m\u001b[1;32m      5\u001b[0m \u001b[0msaludar\u001b[0m\u001b[0;34m(\u001b[0m\u001b[0;34m)\u001b[0m\u001b[0;34m\u001b[0m\u001b[0;34m\u001b[0m\u001b[0m\n\u001b[1;32m      6\u001b[0m \u001b[0;31m# Error: la variable no existe fuera de la función\u001b[0m\u001b[0;34m\u001b[0m\u001b[0;34m\u001b[0m\u001b[0m\n",
            "\u001b[0;31mNameError\u001b[0m: name 'mensaje' is not defined"
          ]
        }
      ]
    },
    {
      "cell_type": "markdown",
      "source": [
        "## **Variables globales**"
      ],
      "metadata": {
        "id": "-m3j7lPj6wP1"
      }
    },
    {
      "cell_type": "code",
      "source": [
        "mensaje = 'Hola'\n",
        "def saludar():\n",
        " print('Dentro:', mensaje)\n",
        "saludar()\n",
        "print('Fuera:', mensaje)"
      ],
      "metadata": {
        "id": "WfzO2ROz60fx"
      },
      "execution_count": null,
      "outputs": []
    },
    {
      "cell_type": "markdown",
      "source": [
        "## **Variables nonlocal**"
      ],
      "metadata": {
        "id": "pYzFaNjr6_vU"
      }
    },
    {
      "cell_type": "code",
      "source": [
        "def externa():\n",
        "  mensaje = 'local'\n",
        "def interna():\n",
        " nonlocal mensaje\n",
        " mensaje = 'nonlocal'\n",
        " print('Interna:', mensaje)\n",
        "interna()\n",
        "print('Externa:', mensaje)\n",
        "externa()"
      ],
      "metadata": {
        "colab": {
          "base_uri": "https://localhost:8080/",
          "height": 106
        },
        "id": "zr7LsYqA7Dtn",
        "outputId": "979fab98-d9da-40ac-9b8e-f3c05d3d64d5"
      },
      "execution_count": null,
      "outputs": [
        {
          "output_type": "error",
          "ename": "SyntaxError",
          "evalue": "no binding for nonlocal 'mensaje' found (ipython-input-2423417961.py, line 4)",
          "traceback": [
            "\u001b[0;36m  File \u001b[0;32m\"/tmp/ipython-input-2423417961.py\"\u001b[0;36m, line \u001b[0;32m4\u001b[0m\n\u001b[0;31m    nonlocal mensaje\u001b[0m\n\u001b[0m    ^\u001b[0m\n\u001b[0;31mSyntaxError\u001b[0m\u001b[0;31m:\u001b[0m no binding for nonlocal 'mensaje' found\n"
          ]
        }
      ]
    }
  ]
}