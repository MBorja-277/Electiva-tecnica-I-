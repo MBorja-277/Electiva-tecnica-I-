{
  "nbformat": 4,
  "nbformat_minor": 0,
  "metadata": {
    "colab": {
      "provenance": [],
      "authorship_tag": "ABX9TyOT6qho+6K02qadMrLY9D9v",
      "include_colab_link": true
    },
    "kernelspec": {
      "name": "python3",
      "display_name": "Python 3"
    },
    "language_info": {
      "name": "python"
    }
  },
  "cells": [
    {
      "cell_type": "markdown",
      "metadata": {
        "id": "view-in-github",
        "colab_type": "text"
      },
      "source": [
        "<a href=\"https://colab.research.google.com/github/MBorja-277/Electiva-tecnica-I-/blob/main/Banco.ipynb\" target=\"_parent\"><img src=\"https://colab.research.google.com/assets/colab-badge.svg\" alt=\"Open In Colab\"/></a>"
      ]
    },
    {
      "cell_type": "markdown",
      "source": [
        "# **Caso Estudio Banco en Línea**"
      ],
      "metadata": {
        "id": "pYkNxm-GcY_h"
      }
    },
    {
      "cell_type": "markdown",
      "source": [
        "##**Implementación de clases:**\n",
        "\n",
        "Implementa la clase Usuario con los atributos nombre y email, y el método\n",
        "registrarse().\n",
        "\n",
        "Implementa la clase CuentaBancaria con los atributos numero_cuenta,\n",
        "saldo, y usuario, y los métodos depositar(cantidad: float),\n",
        "retirar(cantidad: float), y consultar_saldo().\n",
        "\n",
        "Implementa la clase Banco con los atributos nombre y cuentas, y los métodos\n",
        "abrir_cuenta(usuario: Usuario),\n",
        "buscar_cuenta(numero_cuenta: int), y realizar_transferencia(cuenta_origen: CuentaBancaria,\n",
        "cuenta_destino: CuentaBancaria, cantidad: float)."
      ],
      "metadata": {
        "id": "ZjojNnendbcg"
      }
    },
    {
      "cell_type": "markdown",
      "source": [
        "# **Clase Usuario**"
      ],
      "metadata": {
        "id": "FZEYXrYgfIRX"
      }
    },
    {
      "cell_type": "code",
      "source": [
        "\"\"\"\n",
        "Manuel Alejandro Borja Sepúlveda\n",
        "Electiva (Ciencia de datos I)\n",
        "S4C\n",
        "Práctica de laboratorio POO: Banco\n",
        "Elias Buitrago B.\n",
        "Profesor de cátedra\n",
        "Facultad de Sistemas\n",
        "Escuela Tecnológica Instituto Técnico Central\n",
        "Bogotá D.C., Colombia\n",
        "\n",
        "\"\"\"\n",
        "class Usuario:\n",
        "  def __init__(self,nombre : str, email : str, password : str =\"\"):\n",
        "    self.nombre = nombre\n",
        "    self.email = email\n",
        "    self.password = password\n",
        "\n",
        "    def registrarse(self):\n",
        "     self.nombre = input(\"Ingrese su nombre\")\n",
        "     self.email = input(\"Ingrese su Email\")\n",
        "     print(f\"te has registrado con exito {self.nombre} con el correo: {self.email}\")\n",
        "\n",
        "    def contraseña(self, password:str):\n",
        "      print(f\"Usuario {self.nombre} introduzca una contraseña para su cuenta bancaria\")\n",
        "      self.password = input(\"contraseña:\")\n",
        "\n",
        "      def verificarContraseña(self):\n",
        "        check = False\n",
        "        while not check:\n",
        "          password = input(f\"{self.nombre} verifique su contraseña\")\n",
        "          if password == self.password:\n",
        "            print(\"¡Correcto!\")\n",
        "            check = True\n",
        "          else:\n",
        "              print(\"Incorrecto\")\n",
        "\n",
        "\n",
        "\n",
        "\n",
        "\n",
        "\n",
        "\n"
      ],
      "metadata": {
        "id": "C_CzH2qLcgZ4"
      },
      "execution_count": null,
      "outputs": []
    },
    {
      "cell_type": "markdown",
      "source": [
        "La clase Usuario pedirá como entrada nombre, email, contraseña. luego de registrarse con éxito el programa se asegurará de que la contraseña del usuario sea correcta.\n",
        "  "
      ],
      "metadata": {
        "id": "uBucqjFgnLeb"
      }
    },
    {
      "cell_type": "markdown",
      "source": [
        "# Cuenta bancaria"
      ],
      "metadata": {
        "id": "tL394pYQnfye"
      }
    },
    {
      "cell_type": "code",
      "source": [
        "class CuentaBancaria:\n",
        "    def __init__(self, numCuenta: int, usuario: Usuario):\n",
        "        self.numCuenta = numCuenta\n",
        "        self.saldo = 0.0\n",
        "        self.usuario = usuario\n",
        "\n",
        "    def depositar(self,cantidad):\n",
        "      print(f\"Su saldo es de:{self.saldo}\")\n",
        "      self.saldo += cantidad\n",
        "      print(f\" Usted deposito ${cantidad}. ahora su nuevo saldo es de: ${self.saldo} \")\n",
        "\n",
        "    def retirar(self,cantidad):\n",
        "      if cantidad <= self.saldo:\n",
        "        self.saldo -=  cantidad\n",
        "        print(f\"usted ha retirado {cantidad}, su nuevo saldo es de: {self.saldo}\")\n",
        "      else:\n",
        "        print(\"¡Fondos insuficientes!\")\n",
        "\n",
        "\n",
        "        def consultarSaldo(self):\n",
        "            print(f\"{self.nombre} su saldo actual es de: {self.saldo}\")\n"
      ],
      "metadata": {
        "id": "za1HXpuSnoK4"
      },
      "execution_count": null,
      "outputs": []
    },
    {
      "cell_type": "markdown",
      "source": [
        "La Cuenta bancaria va a iniciar en 0, se depositará una cantidad para luego ser incluida al saldo, se hará el retiro de dinerpo si la cantidad es menor no será posible realizar la acción, mientras que la cantidad sea mayor se hará el retiro adecuado,  después el usuario podrea ver su saldo actual"
      ],
      "metadata": {
        "id": "6-QLsoEm0r8A"
      }
    },
    {
      "cell_type": "markdown",
      "source": [
        "# **Clase banco**"
      ],
      "metadata": {
        "id": "JSCxFGsO3Spz"
      }
    },
    {
      "cell_type": "code",
      "source": [
        "class Banco:\n",
        " def __init__(self, nombre):\n",
        "        self.nombre = nombre\n",
        "        self.cuentas = []\n",
        "\n",
        "def crearCuentas(self, usuarios):\n",
        "\n",
        "        for i, usuario in enumerate(usuarios, start=1):\n",
        "            cuenta = CuentaBancaria(i, usuario)\n",
        "            self.cuentas.append(cuenta)\n",
        "        print(f\"Se crearon {len(self.cuentas)} cuentas en el banco {self.nombre}\")\n",
        "\n",
        "def buscarCuenta(self, numCuenta):\n",
        "        for cuenta in self.cuentas:\n",
        "            if cuenta.numCuenta == numCuenta:\n",
        "                return cuenta\n",
        "        return None\n",
        "\n",
        "def transferir(self, origen, destino, cantidad):\n",
        "        cuenta_origen = self.buscarCuenta(origen)\n",
        "        cuenta_destino = self.buscarCuenta(destino)\n",
        "\n",
        "        if cuenta_origen and cuenta_destino:\n",
        "            if cuenta_origen.saldo >= cantidad:\n",
        "                cuenta_origen.retirar(cantidad)\n",
        "                cuenta_destino.depositar(cantidad)\n",
        "                print(f\"Transferencia de {cantidad} realizada con éxito de {origen} a {destino}\")\n",
        "            else:\n",
        "                print(\"Fondos insuficientes en la cuenta de origen\")\n",
        "        else:\n",
        "            print(\"Una de las cuentas no existe\")\n",
        "\n",
        "\n",
        "\n",
        "\n",
        "\n",
        "\n"
      ],
      "metadata": {
        "id": "P7ZQh9lK3Axc"
      },
      "execution_count": null,
      "outputs": []
    },
    {
      "cell_type": "markdown",
      "source": [
        "Se creo una lista para almacenar las cuentas y Crea 10 cuentas automáticamente para una lista de usuarios tambien buscará una cuenta acorde al numero asignado también se podra realizar transferencias dependiendo de la cantidad de saldo y cuenta ya que si alguno de los 2 muestra error no se hará con exito la transferencia"
      ],
      "metadata": {
        "id": "KmScfFYZ-DSa"
      }
    },
    {
      "cell_type": "markdown",
      "source": [
        "# **Instancia de los métodos**"
      ],
      "metadata": {
        "id": "GpoyyD2gCnW0"
      }
    },
    {
      "cell_type": "code",
      "source": [
        "# Crear banco\n",
        "\n",
        "verBanco = Banco(\"Banco MB\")\n",
        "\n",
        "# Crear Usuarios de la clase Usuario\n",
        "for i in range(1, 11):\n",
        "    print(f\"\\n=== Registro del Usuario {i} ===\")\n",
        "    verUsuario = Usuario(\"\", \"\", \"\")\n",
        "    verUsuario.registrarse()\n",
        "    verUsuario.contraseña()\n",
        "    verUsuario.verificarContraseña()\n",
        "\n",
        "\n",
        "    # Clase de cuenta Bancaria\n",
        "    verCuenta = CuentaBancaria(i, verUsuario)\n",
        "    verCuenta.depositar(50000)\n",
        "    verCuenta.retirar(30000)\n",
        "    verCuenta.consultarSaldo()\n",
        "\n",
        "    # Agregar cuenta al banco\n",
        "    verBanco.cuentas.append(verCuenta)\n",
        "   # verBanco.crearCuentas()\n",
        "    #verBanco.buscarCuenta()\n",
        "    #verBanco.transferir()\n",
        "\n",
        "print(\"\\n=== Se han creado las 10 cuentas exitosamente ===\")\n",
        "\n",
        "# Probar: mostrar saldos de todas las cuentas\n",
        "for cuenta in verBanco.cuentas:\n",
        "    cuenta.consultarSaldo()"
      ],
      "metadata": {
        "colab": {
          "base_uri": "https://localhost:8080/",
          "height": 245
        },
        "id": "md2b-p_XCtQ1",
        "outputId": "a7075925-29c4-453c-f6a8-cb926bd7e3f7"
      },
      "execution_count": null,
      "outputs": [
        {
          "output_type": "stream",
          "name": "stdout",
          "text": [
            "\n",
            "=== Registro del Usuario 1 ===\n"
          ]
        },
        {
          "output_type": "error",
          "ename": "AttributeError",
          "evalue": "'Usuario' object has no attribute 'registrarse'",
          "traceback": [
            "\u001b[0;31m---------------------------------------------------------------------------\u001b[0m",
            "\u001b[0;31mAttributeError\u001b[0m                            Traceback (most recent call last)",
            "\u001b[0;32m/tmp/ipython-input-1796178684.py\u001b[0m in \u001b[0;36m<cell line: 0>\u001b[0;34m()\u001b[0m\n\u001b[1;32m      7\u001b[0m     \u001b[0mprint\u001b[0m\u001b[0;34m(\u001b[0m\u001b[0;34mf\"\\n=== Registro del Usuario {i} ===\"\u001b[0m\u001b[0;34m)\u001b[0m\u001b[0;34m\u001b[0m\u001b[0;34m\u001b[0m\u001b[0m\n\u001b[1;32m      8\u001b[0m     \u001b[0mverUsuario\u001b[0m \u001b[0;34m=\u001b[0m \u001b[0mUsuario\u001b[0m\u001b[0;34m(\u001b[0m\u001b[0;34m\"\"\u001b[0m\u001b[0;34m,\u001b[0m \u001b[0;34m\"\"\u001b[0m\u001b[0;34m,\u001b[0m \u001b[0;34m\"\"\u001b[0m\u001b[0;34m)\u001b[0m\u001b[0;34m\u001b[0m\u001b[0;34m\u001b[0m\u001b[0m\n\u001b[0;32m----> 9\u001b[0;31m     \u001b[0mverUsuario\u001b[0m\u001b[0;34m.\u001b[0m\u001b[0mregistrarse\u001b[0m\u001b[0;34m(\u001b[0m\u001b[0;34m)\u001b[0m\u001b[0;34m\u001b[0m\u001b[0;34m\u001b[0m\u001b[0m\n\u001b[0m\u001b[1;32m     10\u001b[0m     \u001b[0mverUsuario\u001b[0m\u001b[0;34m.\u001b[0m\u001b[0mcontraseña\u001b[0m\u001b[0;34m(\u001b[0m\u001b[0;34m)\u001b[0m\u001b[0;34m\u001b[0m\u001b[0;34m\u001b[0m\u001b[0m\n\u001b[1;32m     11\u001b[0m     \u001b[0mverUsuario\u001b[0m\u001b[0;34m.\u001b[0m\u001b[0mverificarContraseña\u001b[0m\u001b[0;34m(\u001b[0m\u001b[0;34m)\u001b[0m\u001b[0;34m\u001b[0m\u001b[0;34m\u001b[0m\u001b[0m\n",
            "\u001b[0;31mAttributeError\u001b[0m: 'Usuario' object has no attribute 'registrarse'"
          ]
        }
      ]
    },
    {
      "cell_type": "markdown",
      "source": [
        "Este presenta erro debido a que no tiene a quién llamar abajo se presentará el código completo"
      ],
      "metadata": {
        "id": "RWHZBkIgNOva"
      }
    },
    {
      "cell_type": "markdown",
      "source": [
        "# **Código completo**"
      ],
      "metadata": {
        "id": "Q8WPvrO4KcHC"
      }
    },
    {
      "cell_type": "code",
      "source": [
        "\n",
        "class Usuario:\n",
        "    def __init__(self, nombre: str, email: str, password: str = \"\"):\n",
        "        self.nombre = nombre\n",
        "        self.email = email\n",
        "        self.password = password\n",
        "\n",
        "    def registrarse(self):\n",
        "        self.nombre = input(\"Ingrese su nombre: \")\n",
        "        self.email = input(\"Ingrese su Email: \")\n",
        "        print(f\"Te has registrado con éxito {self.nombre} con el correo: {self.email}\")\n",
        "\n",
        "    def contraseña(self):\n",
        "        print(f\"Usuario {self.nombre}, introduzca una contraseña para su cuenta bancaria\")\n",
        "        self.password = input(\"Contraseña: \")\n",
        "\n",
        "    def verificarContraseña(self):\n",
        "        check = False\n",
        "        while not check:\n",
        "            password = input(f\"{self.nombre} verifique su contraseña: \")\n",
        "            if password == self.password:\n",
        "                print(\"¡Correcto!\")\n",
        "                check = True\n",
        "            else:\n",
        "                print(\"Incorrecto\")\n",
        "\n",
        "\n",
        "class CuentaBancaria:\n",
        "    def __init__(self, numCuenta: int, usuario: Usuario):\n",
        "        self.numCuenta = numCuenta\n",
        "        self.saldo = 0.0\n",
        "        self.usuario = usuario\n",
        "\n",
        "    def depositar(self, cantidad):\n",
        "        print(f\"Su saldo actual es de: {self.saldo}\")\n",
        "        self.saldo += cantidad\n",
        "        print(f\"Usted depositó ${cantidad}. Ahora su nuevo saldo es de: {self.saldo}\")\n",
        "\n",
        "    def retirar(self, cantidad):\n",
        "        if cantidad <= self.saldo:\n",
        "            self.saldo -= cantidad\n",
        "            print(f\"Usted ha retirado {cantidad}, su nuevo saldo es de: {self.saldo}\")\n",
        "        else:\n",
        "            print(\"¡Fondos insuficientes!\")\n",
        "\n",
        "    def consultarSaldo(self):\n",
        "        print(f\"{self.usuario.nombre}, su saldo actual es de: {self.saldo}\")\n",
        "\n",
        "\n",
        "class Banco:\n",
        "    def __init__(self, nombre):\n",
        "        self.nombre = nombre\n",
        "        self.cuentas = []  # lista de cuentas en el banco\n",
        "\n",
        "    def crearCuentas(self, usuarios):\n",
        "        \"\"\"Crea 10 cuentas automáticamente para una lista de usuarios\"\"\"\n",
        "        for i, usuario in enumerate(usuarios, start=1):\n",
        "            cuenta = CuentaBancaria(i, usuario)\n",
        "            self.cuentas.append(cuenta)\n",
        "        print(f\"Se crearon {len(self.cuentas)} cuentas en el banco {self.nombre}\")\n",
        "\n",
        "    def buscarCuenta(self, numCuenta):\n",
        "        for cuenta in self.cuentas:\n",
        "            if cuenta.numCuenta == numCuenta:\n",
        "                return cuenta\n",
        "        return None\n",
        "\n",
        "    def transferir(self, origen, destino, cantidad):\n",
        "        cuenta_origen = self.buscarCuenta(origen)\n",
        "        cuenta_destino = self.buscarCuenta(destino)\n",
        "\n",
        "        if cuenta_origen and cuenta_destino:\n",
        "            if cuenta_origen.saldo >= cantidad:\n",
        "                cuenta_origen.retirar(cantidad)\n",
        "                cuenta_destino.depositar(cantidad)\n",
        "                print(f\"Transferencia de {cantidad} realizada con éxito de {origen} a {destino}\")\n",
        "            else:\n",
        "                print(\"Fondos insuficientes en la cuenta de origen\")\n",
        "        else:\n",
        "            print(\"Una de las cuentas no existe\")\n",
        "\n",
        "verBanco = Banco(\"Banco MB\")\n",
        "\n",
        "# Crear Usuarios de la clase Usuario\n",
        "for i in range(1, 11):\n",
        "    print(f\"\\n=== Registro del Usuario {i} ===\")\n",
        "    verUsuario = Usuario(\"\", \"\", \"\")\n",
        "    verUsuario.registrarse()\n",
        "    verUsuario.contraseña()\n",
        "    verUsuario.verificarContraseña()\n",
        "\n",
        "\n",
        "    # Clase de cuenta Bancaria\n",
        "    verCuenta = CuentaBancaria(i, verUsuario)\n",
        "    verCuenta.depositar(50000)\n",
        "    verCuenta.retirar(30000)\n",
        "    verCuenta.consultarSaldo()\n",
        "\n",
        "    # Agregar cuenta al banco\n",
        "    verBanco.cuentas.append(verCuenta)\n",
        "   # verBanco.crearCuentas()\n",
        "    #verBanco.buscarCuenta()\n",
        "    #verBanco.transferir()\n",
        "\n",
        "print(\"\\n=== Se han creado las 10 cuentas exitosamente ===\")\n",
        "\n",
        "# Probar: mostrar saldos de todas las cuentas\n",
        "for cuenta in verBanco.cuentas:\n",
        "    cuenta.consultarSaldo()"
      ],
      "metadata": {
        "colab": {
          "base_uri": "https://localhost:8080/"
        },
        "id": "VR945EVIKhS_",
        "outputId": "4ff47097-519f-4106-9fdd-d6173da6d72e"
      },
      "execution_count": null,
      "outputs": [
        {
          "output_type": "stream",
          "name": "stdout",
          "text": [
            "\n",
            "=== Registro del Usuario 1 ===\n",
            "Ingrese su nombre: Manuel\n",
            "Ingrese su Email: perro@gmail.com\n",
            "Te has registrado con éxito Manuel con el correo: perro@gmail.com\n",
            "Usuario Manuel, introduzca una contraseña para su cuenta bancaria\n",
            "Contraseña: perro\n",
            "Manuel verifique su contraseña: Perrp\n",
            "Incorrecto\n",
            "Manuel verifique su contraseña: perro\n",
            "¡Correcto!\n",
            "Su saldo actual es de: 0.0\n",
            "Usted depositó $50000. Ahora su nuevo saldo es de: 50000.0\n",
            "Usted ha retirado 30000, su nuevo saldo es de: 20000.0\n",
            "Manuel, su saldo actual es de: 20000.0\n",
            "\n",
            "=== Registro del Usuario 2 ===\n",
            "Ingrese su nombre: Alejandro\n",
            "Ingrese su Email: Gato@gmail.com\n",
            "Te has registrado con éxito Alejandro con el correo: Gato@gmail.com\n",
            "Usuario Alejandro, introduzca una contraseña para su cuenta bancaria\n",
            "Contraseña: gato\n",
            "Alejandro verifique su contraseña: gato\n",
            "¡Correcto!\n",
            "Su saldo actual es de: 0.0\n",
            "Usted depositó $50000. Ahora su nuevo saldo es de: 50000.0\n",
            "Usted ha retirado 30000, su nuevo saldo es de: 20000.0\n",
            "Alejandro, su saldo actual es de: 20000.0\n",
            "\n",
            "=== Registro del Usuario 3 ===\n",
            "Ingrese su nombre: loro\n",
            "Ingrese su Email: loro@gamil.com\n",
            "Te has registrado con éxito loro con el correo: loro@gamil.com\n",
            "Usuario loro, introduzca una contraseña para su cuenta bancaria\n",
            "Contraseña: loro\n",
            "loro verifique su contraseña: loro\n",
            "¡Correcto!\n",
            "Su saldo actual es de: 0.0\n",
            "Usted depositó $50000. Ahora su nuevo saldo es de: 50000.0\n",
            "Usted ha retirado 30000, su nuevo saldo es de: 20000.0\n",
            "loro, su saldo actual es de: 20000.0\n",
            "\n",
            "=== Registro del Usuario 4 ===\n",
            "Ingrese su nombre: ...\n",
            "Ingrese su Email: ...\n",
            "Te has registrado con éxito ... con el correo: ...\n",
            "Usuario ..., introduzca una contraseña para su cuenta bancaria\n",
            "Contraseña: ...\n",
            "... verifique su contraseña: ...\n",
            "¡Correcto!\n",
            "Su saldo actual es de: 0.0\n",
            "Usted depositó $50000. Ahora su nuevo saldo es de: 50000.0\n",
            "Usted ha retirado 30000, su nuevo saldo es de: 20000.0\n",
            "..., su saldo actual es de: 20000.0\n",
            "\n",
            "=== Registro del Usuario 5 ===\n",
            "Ingrese su nombre: ...\n",
            "Ingrese su Email: ...\n",
            "Te has registrado con éxito ... con el correo: ...\n",
            "Usuario ..., introduzca una contraseña para su cuenta bancaria\n",
            "Contraseña: ...\n",
            "... verifique su contraseña: ...\n",
            "¡Correcto!\n",
            "Su saldo actual es de: 0.0\n",
            "Usted depositó $50000. Ahora su nuevo saldo es de: 50000.0\n",
            "Usted ha retirado 30000, su nuevo saldo es de: 20000.0\n",
            "..., su saldo actual es de: 20000.0\n",
            "\n",
            "=== Registro del Usuario 6 ===\n",
            "Ingrese su nombre: ...\n",
            "Ingrese su Email: ...\n",
            "Te has registrado con éxito ... con el correo: ...\n",
            "Usuario ..., introduzca una contraseña para su cuenta bancaria\n",
            "Contraseña: ...\n",
            "... verifique su contraseña: ...\n",
            "¡Correcto!\n",
            "Su saldo actual es de: 0.0\n",
            "Usted depositó $50000. Ahora su nuevo saldo es de: 50000.0\n",
            "Usted ha retirado 30000, su nuevo saldo es de: 20000.0\n",
            "..., su saldo actual es de: 20000.0\n",
            "\n",
            "=== Registro del Usuario 7 ===\n",
            "Ingrese su nombre: ...\n",
            "Ingrese su Email: ...\n",
            "Te has registrado con éxito ... con el correo: ...\n",
            "Usuario ..., introduzca una contraseña para su cuenta bancaria\n",
            "Contraseña: ...\n",
            "... verifique su contraseña: ...\n",
            "¡Correcto!\n",
            "Su saldo actual es de: 0.0\n",
            "Usted depositó $50000. Ahora su nuevo saldo es de: 50000.0\n",
            "Usted ha retirado 30000, su nuevo saldo es de: 20000.0\n",
            "..., su saldo actual es de: 20000.0\n",
            "\n",
            "=== Registro del Usuario 8 ===\n",
            "Ingrese su nombre: ...\n",
            "Ingrese su Email: ...\n",
            "Te has registrado con éxito ... con el correo: ...\n",
            "Usuario ..., introduzca una contraseña para su cuenta bancaria\n",
            "Contraseña: ...\n",
            "... verifique su contraseña: ...\n",
            "¡Correcto!\n",
            "Su saldo actual es de: 0.0\n",
            "Usted depositó $50000. Ahora su nuevo saldo es de: 50000.0\n",
            "Usted ha retirado 30000, su nuevo saldo es de: 20000.0\n",
            "..., su saldo actual es de: 20000.0\n",
            "\n",
            "=== Registro del Usuario 9 ===\n",
            "Ingrese su nombre: ...\n",
            "Ingrese su Email: ...\n",
            "Te has registrado con éxito ... con el correo: ...\n",
            "Usuario ..., introduzca una contraseña para su cuenta bancaria\n",
            "Contraseña: ...\n",
            "... verifique su contraseña: ...\n",
            "¡Correcto!\n",
            "Su saldo actual es de: 0.0\n",
            "Usted depositó $50000. Ahora su nuevo saldo es de: 50000.0\n",
            "Usted ha retirado 30000, su nuevo saldo es de: 20000.0\n",
            "..., su saldo actual es de: 20000.0\n",
            "\n",
            "=== Registro del Usuario 10 ===\n",
            "Ingrese su nombre: ...\n",
            "Ingrese su Email: fin@gmail.com\n",
            "Te has registrado con éxito ... con el correo: fin@gmail.com\n",
            "Usuario ..., introduzca una contraseña para su cuenta bancaria\n",
            "Contraseña: FIN\n",
            "... verifique su contraseña: Fin\n",
            "Incorrecto\n",
            "... verifique su contraseña: FIN\n",
            "¡Correcto!\n",
            "Su saldo actual es de: 0.0\n",
            "Usted depositó $50000. Ahora su nuevo saldo es de: 50000.0\n",
            "Usted ha retirado 30000, su nuevo saldo es de: 20000.0\n",
            "..., su saldo actual es de: 20000.0\n",
            "\n",
            "=== Se han creado las 10 cuentas exitosamente ===\n",
            "Manuel, su saldo actual es de: 20000.0\n",
            "Alejandro, su saldo actual es de: 20000.0\n",
            "loro, su saldo actual es de: 20000.0\n",
            "..., su saldo actual es de: 20000.0\n",
            "..., su saldo actual es de: 20000.0\n",
            "..., su saldo actual es de: 20000.0\n",
            "..., su saldo actual es de: 20000.0\n",
            "..., su saldo actual es de: 20000.0\n",
            "..., su saldo actual es de: 20000.0\n",
            "..., su saldo actual es de: 20000.0\n"
          ]
        }
      ]
    }
  ]
}