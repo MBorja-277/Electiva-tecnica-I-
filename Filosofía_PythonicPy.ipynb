{
  "nbformat": 4,
  "nbformat_minor": 0,
  "metadata": {
    "colab": {
      "provenance": [],
      "authorship_tag": "ABX9TyM/cuaJGiodDz+S2QUAOetP",
      "include_colab_link": true
    },
    "kernelspec": {
      "name": "python3",
      "display_name": "Python 3"
    },
    "language_info": {
      "name": "python"
    }
  },
  "cells": [
    {
      "cell_type": "markdown",
      "metadata": {
        "id": "view-in-github",
        "colab_type": "text"
      },
      "source": [
        "<a href=\"https://colab.research.google.com/github/MBorja-277/Electiva-tecnica-I-/blob/main/Filosof%C3%ADa_PythonicPy.ipynb\" target=\"_parent\"><img src=\"https://colab.research.google.com/assets/colab-badge.svg\" alt=\"Open In Colab\"/></a>"
      ]
    },
    {
      "cell_type": "markdown",
      "source": [
        "# Filosofía Pythonic."
      ],
      "metadata": {
        "id": "roBpPhTV7IBS"
      }
    },
    {
      "cell_type": "markdown",
      "source": [
        "## Principios del Zen of Python"
      ],
      "metadata": {
        "id": "KI92lnTz9jf8"
      }
    },
    {
      "cell_type": "code",
      "source": [
        "import this"
      ],
      "metadata": {
        "id": "316wg2559t5q"
      },
      "execution_count": null,
      "outputs": []
    },
    {
      "cell_type": "markdown",
      "source": [
        "### **Comparaciones Python**.\n",
        "#### **For**"
      ],
      "metadata": {
        "id": "xkhyXkKQ-MuW"
      }
    },
    {
      "cell_type": "code",
      "source": [
        "\n",
        "for nombre in range(10):\n",
        "  print(nombre)"
      ],
      "metadata": {
        "colab": {
          "base_uri": "https://localhost:8080/"
        },
        "id": "R4j9pIWs-mdA",
        "outputId": "253692f0-45b6-44d7-ad8f-75a95f49b098"
      },
      "execution_count": null,
      "outputs": [
        {
          "output_type": "stream",
          "name": "stdout",
          "text": [
            "0\n",
            "1\n",
            "2\n",
            "3\n",
            "4\n",
            "5\n",
            "6\n",
            "7\n",
            "8\n",
            "9\n"
          ]
        }
      ]
    },
    {
      "cell_type": "markdown",
      "source": [
        "#### **Formateo de Cadenas**"
      ],
      "metadata": {
        "id": "TOuZKTFIBzBA"
      }
    },
    {
      "cell_type": "code",
      "source": [
        "nombre, edad = \"Ana\",21\n",
        "print(f\"Hola {nombre}, Tienes {edad} años\")"
      ],
      "metadata": {
        "colab": {
          "base_uri": "https://localhost:8080/"
        },
        "id": "jeeMxofqCGlS",
        "outputId": "e064e107-9100-4755-9c34-f3fc1e8b17b5"
      },
      "execution_count": null,
      "outputs": [
        {
          "output_type": "stream",
          "name": "stdout",
          "text": [
            "Hola Ana, Tienes 21 años\n"
          ]
        }
      ]
    },
    {
      "cell_type": "markdown",
      "source": [
        "#### **Intercambio de variables**\n"
      ],
      "metadata": {
        "id": "k3Nw_zsWDLgx"
      }
    },
    {
      "cell_type": "code",
      "source": [
        "a = 1\n",
        "b= 2\n",
        "print(\"B =\", a , \"B =\", b, sep=\" \" );\n",
        "a,b=b,a\n",
        "print(\"B =\", a , \"B =\", b, sep=\" \")\n"
      ],
      "metadata": {
        "colab": {
          "base_uri": "https://localhost:8080/"
        },
        "id": "83zTZnIFDoGZ",
        "outputId": "e82d4b9e-39b1-47f2-9892-890e17e2dd78"
      },
      "execution_count": null,
      "outputs": [
        {
          "output_type": "stream",
          "name": "stdout",
          "text": [
            "B = 1 B = 2\n",
            "B = 2 B = 1\n"
          ]
        }
      ]
    },
    {
      "cell_type": "markdown",
      "source": [
        "#### **Contrucción / filtrado de listas.**"
      ],
      "metadata": {
        "id": "RniodppxHS-z"
      }
    },
    {
      "cell_type": "code",
      "source": [
        "cuadrados_pares = [x*x for x in range(10)\n",
        "if x % 2 == 0 ]"
      ],
      "metadata": {
        "id": "1qEMdjyEHg8j"
      },
      "execution_count": null,
      "outputs": []
    }
  ]
}